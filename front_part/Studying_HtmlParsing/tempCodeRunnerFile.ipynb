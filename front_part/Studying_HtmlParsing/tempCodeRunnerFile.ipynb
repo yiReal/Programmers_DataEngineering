import time
for i in range(1,6):
    res = requests.get("https://hashcode.co.kr/?page={}:".format(i),user_agent)
    soup = BeautifulSoup(res.text,"html.parser")
    questions = soup.find_all("li","question-list-item")
    for question in questions:
        print(question.find("div","question").find("div","top").h4.text)
    time.sleep(0.5)