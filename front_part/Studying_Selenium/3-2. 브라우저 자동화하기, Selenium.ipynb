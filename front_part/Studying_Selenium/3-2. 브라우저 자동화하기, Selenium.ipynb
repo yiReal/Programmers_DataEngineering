{
 "cells": [
  {
   "cell_type": "markdown",
   "id": "192778f5-b6a0-458f-9d28-2ecd531975a1",
   "metadata": {},
   "source": [
    "## 3-2. 브라우저 자동화하기, Selenium\n",
    "\n",
    "- `Selenium`을 활용해 브라우저를 조작해봅시다."
   ]
  },
  {
   "cell_type": "markdown",
   "id": "4641b904-0d90-4bd0-a963-3f01ea8547d1",
   "metadata": {},
   "source": [
    "### Selenium 라이브러리\n",
    "\n",
    "- `selenium`은 Python을 이용해서 웹 브라우저를 조작할 수 있는 자동화 프레임워크입니다.\n",
    "\n",
    "이를 사용하기 위해서는 먼저 `selenium` 프레임워크를 설치해야합니다.  \n",
    "`pip install`을 통해서 이를 간단하게 설치할 수 있습니다.\n",
    "\n",
    "> Tip: `%`를 이용해서 노트북(.ipynb) 환경에서 터미널 코드를 실행할 수 있습니다."
   ]
  },
  {
   "cell_type": "code",
   "execution_count": null,
   "id": "1b08d5f2-01ae-4b19-bff8-f933f12f94e4",
   "metadata": {},
   "outputs": [
    {
     "ename": "",
     "evalue": "",
     "output_type": "error",
     "traceback": [
      "\u001b[1;31mFailed to start the Kernel. \n",
      "Traceback (most recent call last):\n",
      "  File \"/Users/yireal/.vscode/extensions/ms-toolsai.jupyter-2022.3.1000901801/pythonFiles/vscode_datascience_helpers/daemon/daemon_python.py\", line 54, in _decorator\n",
      "    return func(self, *args, **kwargs)\n",
      "           ^^^^^^^^^^^^^^^^^^^^^^^^^^^\n",
      "  File \"/Users/yireal/.vscode/extensions/ms-toolsai.jupyter-2022.3.1000901801/pythonFiles/vscode_datascience_helpers/jupyter_daemon.py\", line 108, in m_exec_module_observable\n",
      "    self._start_notebook(args, cwd, env)\n",
      "  File \"/Users/yireal/.vscode/extensions/ms-toolsai.jupyter-2022.3.1000901801/pythonFiles/vscode_datascience_helpers/jupyter_daemon.py\", line 154, in _start_notebook\n",
      "    from notebook import notebookapp as app\n",
      "ImportError: cannot import name 'notebookapp' from 'notebook' (/opt/homebrew/lib/python3.11/site-packages/notebook/__init__.py)\n",
      "\n",
      "Failed to run jupyter as observable with args notebook --no-browser --notebook-dir=\"/Users/yireal/Desktop/Study/Programmers/Programmers_DataEngineering\" --KernelManager.autorestart=False --config=/var/folders/_7/6x0g3m3d2_57lnj_980360tm0000gn/T/d316166b-5825-4fc4-886f-c29681882f0f/jupyter_notebook_config.py --NotebookApp.iopub_data_rate_limit=10000000000.0. \n",
      "View Jupyter <a href='command:jupyter.viewOutput'>log</a> for further details."
     ]
    }
   ],
   "source": [
    "%pip3 install selenium"
   ]
  },
  {
   "cell_type": "markdown",
   "id": "03b2584d-ca5a-4aa6-80ce-0c478a097fbd",
   "metadata": {},
   "source": [
    "설치를 다 진행했다면, 이제 Chrome Driver를 설치하러 가봅시다."
   ]
  },
  {
   "cell_type": "markdown",
   "id": "dce0cfef-9a70-404a-bbc3-dd45b446c5ca",
   "metadata": {},
   "source": [
    "### Web Driver\n",
    "\n",
    "- 웹 브라우저와 연동을 위해서는 `WebDriver`가 필요합니다.\n",
    "\n",
    "`WebDriver`는 웹 브라우저를 제어할 수 있는 자동화 프레임워크입니다.  \n",
    "이 실습에서는 **Chrome**을 기준으로 설명하겠습니다.\n",
    "\n",
    "`pip insall`을 통해 webdriver를 관리하는 라이브러리 `webdriver-manager`를 설치합니다."
   ]
  },
  {
   "cell_type": "code",
   "execution_count": null,
   "id": "0c76a2a6-0cba-4656-aeaf-ae0d3b80ef35",
   "metadata": {},
   "outputs": [
    {
     "ename": "",
     "evalue": "",
     "output_type": "error",
     "traceback": [
      "\u001b[1;31mFailed to start the Kernel. \n",
      "Traceback (most recent call last):\n",
      "  File \"/Users/yireal/.vscode/extensions/ms-toolsai.jupyter-2022.3.1000901801/pythonFiles/vscode_datascience_helpers/daemon/daemon_python.py\", line 54, in _decorator\n",
      "    return func(self, *args, **kwargs)\n",
      "           ^^^^^^^^^^^^^^^^^^^^^^^^^^^\n",
      "  File \"/Users/yireal/.vscode/extensions/ms-toolsai.jupyter-2022.3.1000901801/pythonFiles/vscode_datascience_helpers/jupyter_daemon.py\", line 108, in m_exec_module_observable\n",
      "    self._start_notebook(args, cwd, env)\n",
      "  File \"/Users/yireal/.vscode/extensions/ms-toolsai.jupyter-2022.3.1000901801/pythonFiles/vscode_datascience_helpers/jupyter_daemon.py\", line 154, in _start_notebook\n",
      "    from notebook import notebookapp as app\n",
      "ImportError: cannot import name 'notebookapp' from 'notebook' (/opt/homebrew/lib/python3.11/site-packages/notebook/__init__.py)\n",
      "\n",
      "Failed to run jupyter as observable with args notebook --no-browser --notebook-dir=\"/Users/yireal/Desktop/Study/Programmers/Programmers_DataEngineering\" --KernelManager.autorestart=False --config=/var/folders/_7/6x0g3m3d2_57lnj_980360tm0000gn/T/d316166b-5825-4fc4-886f-c29681882f0f/jupyter_notebook_config.py --NotebookApp.iopub_data_rate_limit=10000000000.0. \n",
      "View Jupyter <a href='command:jupyter.viewOutput'>log</a> for further details."
     ]
    }
   ],
   "source": [
    "%pip install webdriver-manager"
   ]
  },
  {
   "cell_type": "markdown",
   "id": "7c73e625-2eb4-401a-83d0-4d07702153ba",
   "metadata": {},
   "source": [
    "설치를 완료했다면 이제 Webdriver를 사용할 수 있습니다.\n",
    "\n",
    "컴퓨터에 Chrome이 깔려있어야 이후 실습을 진행할 수 있습니다.  \n",
    "[Chrome 설치하기](https://www.google.com/intl/ko_kr/chrome/)"
   ]
  },
  {
   "cell_type": "markdown",
   "id": "1631423f-39be-4478-8464-81bcc3d5b408",
   "metadata": {},
   "source": [
    "### Selenium 시작하기\n",
    "\n"
   ]
  },
  {
   "cell_type": "markdown",
   "id": "e0684b2c-5a51-44dc-a859-c52ee73cbbc6",
   "metadata": {},
   "source": [
    "Selenium을 사용하기 위해 우선 Selenium을 불러와봅시다."
   ]
  },
  {
   "cell_type": "code",
   "execution_count": null,
   "id": "f47f2f16-bd2b-4bd8-89a6-11c13e37d081",
   "metadata": {},
   "outputs": [
    {
     "ename": "",
     "evalue": "",
     "output_type": "error",
     "traceback": [
      "\u001b[1;31mFailed to start the Kernel. \n",
      "Traceback (most recent call last):\n",
      "  File \"/Users/yireal/.vscode/extensions/ms-toolsai.jupyter-2022.3.1000901801/pythonFiles/vscode_datascience_helpers/daemon/daemon_python.py\", line 54, in _decorator\n",
      "    return func(self, *args, **kwargs)\n",
      "           ^^^^^^^^^^^^^^^^^^^^^^^^^^^\n",
      "  File \"/Users/yireal/.vscode/extensions/ms-toolsai.jupyter-2022.3.1000901801/pythonFiles/vscode_datascience_helpers/jupyter_daemon.py\", line 108, in m_exec_module_observable\n",
      "    self._start_notebook(args, cwd, env)\n",
      "  File \"/Users/yireal/.vscode/extensions/ms-toolsai.jupyter-2022.3.1000901801/pythonFiles/vscode_datascience_helpers/jupyter_daemon.py\", line 154, in _start_notebook\n",
      "    from notebook import notebookapp as app\n",
      "ImportError: cannot import name 'notebookapp' from 'notebook' (/opt/homebrew/lib/python3.11/site-packages/notebook/__init__.py)\n",
      "\n",
      "Failed to run jupyter as observable with args notebook --no-browser --notebook-dir=\"/Users/yireal/Desktop/Study/Programmers/Programmers_DataEngineering\" --KernelManager.autorestart=False --config=/var/folders/_7/6x0g3m3d2_57lnj_980360tm0000gn/T/d316166b-5825-4fc4-886f-c29681882f0f/jupyter_notebook_config.py --NotebookApp.iopub_data_rate_limit=10000000000.0. \n",
      "View Jupyter <a href='command:jupyter.viewOutput'>log</a> for further details."
     ]
    }
   ],
   "source": [
    "# selenium으로부터 webdriver 모듈을 불러옵니다.\n",
    "\n",
    "from selenium import webdriver\n",
    "from selenium.webdriver.chrome.service import Service\n",
    "from webdriver_manager.chrome import ChromeDriverManager"
   ]
  },
  {
   "cell_type": "markdown",
   "id": "c76bd4a5-7aa1-477e-a931-c98c234d1810",
   "metadata": {},
   "source": [
    "불러온 모듈 webdriver에서 Chrome() 객체를 생성합니다."
   ]
  },
  {
   "cell_type": "code",
   "execution_count": null,
   "id": "66bb591b-7a2f-43d7-bb01-495ee065e52e",
   "metadata": {},
   "outputs": [
    {
     "ename": "",
     "evalue": "",
     "output_type": "error",
     "traceback": [
      "\u001b[1;31mFailed to start the Kernel. \n",
      "Traceback (most recent call last):\n",
      "  File \"/Users/yireal/.vscode/extensions/ms-toolsai.jupyter-2022.3.1000901801/pythonFiles/vscode_datascience_helpers/daemon/daemon_python.py\", line 54, in _decorator\n",
      "    return func(self, *args, **kwargs)\n",
      "           ^^^^^^^^^^^^^^^^^^^^^^^^^^^\n",
      "  File \"/Users/yireal/.vscode/extensions/ms-toolsai.jupyter-2022.3.1000901801/pythonFiles/vscode_datascience_helpers/jupyter_daemon.py\", line 108, in m_exec_module_observable\n",
      "    self._start_notebook(args, cwd, env)\n",
      "  File \"/Users/yireal/.vscode/extensions/ms-toolsai.jupyter-2022.3.1000901801/pythonFiles/vscode_datascience_helpers/jupyter_daemon.py\", line 154, in _start_notebook\n",
      "    from notebook import notebookapp as app\n",
      "ImportError: cannot import name 'notebookapp' from 'notebook' (/opt/homebrew/lib/python3.11/site-packages/notebook/__init__.py)\n",
      "\n",
      "Failed to run jupyter as observable with args notebook --no-browser --notebook-dir=\"/Users/yireal/Desktop/Study/Programmers/Programmers_DataEngineering\" --KernelManager.autorestart=False --config=/var/folders/_7/6x0g3m3d2_57lnj_980360tm0000gn/T/d316166b-5825-4fc4-886f-c29681882f0f/jupyter_notebook_config.py --NotebookApp.iopub_data_rate_limit=10000000000.0. \n",
      "View Jupyter <a href='command:jupyter.viewOutput'>log</a> for further details."
     ]
    }
   ],
   "source": [
    "driver = webdriver.Chrome(service=Service(ChromeDriverManager().install()))"
   ]
  },
  {
   "cell_type": "markdown",
   "id": "253b9971-9246-412d-b039-6f9194697796",
   "metadata": {},
   "source": [
    "갑자기 크롬이 실행된다구요? 정상입니다. 저희는 위 명령을 통해 웹 브라우저를 실행하고 파이썬과 연동할 수 있습니다.\n",
    "\n",
    "여기서 그치지 않고, 저희는 이제 요청을 보내보도록 하겠습니다.  \n",
    "`.get(url)`을 활용해 요청을 보낼 수 있습니다."
   ]
  },
  {
   "cell_type": "code",
   "execution_count": null,
   "id": "2befd945-b5a1-4ef2-bb36-914ac3334707",
   "metadata": {},
   "outputs": [
    {
     "ename": "",
     "evalue": "",
     "output_type": "error",
     "traceback": [
      "\u001b[1;31mFailed to start the Kernel. \n",
      "Traceback (most recent call last):\n",
      "  File \"/Users/yireal/.vscode/extensions/ms-toolsai.jupyter-2022.3.1000901801/pythonFiles/vscode_datascience_helpers/daemon/daemon_python.py\", line 54, in _decorator\n",
      "    return func(self, *args, **kwargs)\n",
      "           ^^^^^^^^^^^^^^^^^^^^^^^^^^^\n",
      "  File \"/Users/yireal/.vscode/extensions/ms-toolsai.jupyter-2022.3.1000901801/pythonFiles/vscode_datascience_helpers/jupyter_daemon.py\", line 108, in m_exec_module_observable\n",
      "    self._start_notebook(args, cwd, env)\n",
      "  File \"/Users/yireal/.vscode/extensions/ms-toolsai.jupyter-2022.3.1000901801/pythonFiles/vscode_datascience_helpers/jupyter_daemon.py\", line 154, in _start_notebook\n",
      "    from notebook import notebookapp as app\n",
      "ImportError: cannot import name 'notebookapp' from 'notebook' (/opt/homebrew/lib/python3.11/site-packages/notebook/__init__.py)\n",
      "\n",
      "Failed to run jupyter as observable with args notebook --no-browser --notebook-dir=\"/Users/yireal/Desktop/Study/Programmers/Programmers_DataEngineering\" --KernelManager.autorestart=False --config=/var/folders/_7/6x0g3m3d2_57lnj_980360tm0000gn/T/d316166b-5825-4fc4-886f-c29681882f0f/jupyter_notebook_config.py --NotebookApp.iopub_data_rate_limit=10000000000.0. \n",
      "View Jupyter <a href='command:jupyter.viewOutput'>log</a> for further details."
     ]
    }
   ],
   "source": [
    "# http://www.example.com 으로 요청을 보내봅시다.\n",
    "driver.get(\"http://www.example.com\")\n"
   ]
  },
  {
   "cell_type": "markdown",
   "id": "7d409f9d-9aa1-4e77-8333-35612aaad435",
   "metadata": {},
   "source": [
    "요청이 잘 보내지시나요?  :)  \n",
    "응답을 받은 후, `page_source` 속성을 통해 Response의 HTML 문서를 확인할 수 있습니다."
   ]
  },
  {
   "cell_type": "code",
   "execution_count": null,
   "id": "5057fcfc-cea0-420f-910d-c0e130f81942",
   "metadata": {},
   "outputs": [
    {
     "ename": "",
     "evalue": "",
     "output_type": "error",
     "traceback": [
      "\u001b[1;31mFailed to start the Kernel. \n",
      "Traceback (most recent call last):\n",
      "  File \"/Users/yireal/.vscode/extensions/ms-toolsai.jupyter-2022.3.1000901801/pythonFiles/vscode_datascience_helpers/daemon/daemon_python.py\", line 54, in _decorator\n",
      "    return func(self, *args, **kwargs)\n",
      "           ^^^^^^^^^^^^^^^^^^^^^^^^^^^\n",
      "  File \"/Users/yireal/.vscode/extensions/ms-toolsai.jupyter-2022.3.1000901801/pythonFiles/vscode_datascience_helpers/jupyter_daemon.py\", line 108, in m_exec_module_observable\n",
      "    self._start_notebook(args, cwd, env)\n",
      "  File \"/Users/yireal/.vscode/extensions/ms-toolsai.jupyter-2022.3.1000901801/pythonFiles/vscode_datascience_helpers/jupyter_daemon.py\", line 154, in _start_notebook\n",
      "    from notebook import notebookapp as app\n",
      "ImportError: cannot import name 'notebookapp' from 'notebook' (/opt/homebrew/lib/python3.11/site-packages/notebook/__init__.py)\n",
      "\n",
      "Failed to run jupyter as observable with args notebook --no-browser --notebook-dir=\"/Users/yireal/Desktop/Study/Programmers/Programmers_DataEngineering\" --KernelManager.autorestart=False --config=/var/folders/_7/6x0g3m3d2_57lnj_980360tm0000gn/T/d316166b-5825-4fc4-886f-c29681882f0f/jupyter_notebook_config.py --NotebookApp.iopub_data_rate_limit=10000000000.0. \n",
      "View Jupyter <a href='command:jupyter.viewOutput'>log</a> for further details."
     ]
    }
   ],
   "source": [
    "# page_source 속성을 확인해봅시다.\n",
    "\n",
    "print(driver.page_source)\n"
   ]
  },
  {
   "cell_type": "markdown",
   "id": "2641954d-5464-460d-bc55-00f92ed0aa7a",
   "metadata": {},
   "source": [
    "그런데, 프로그램들을 실행하다보면 Chrome 창이 계속 켜져있게 됩니다.\n",
    "이는 저희가 해당 창을 끄라고 명령을 내린 적이 없기 때문이죠!\n",
    "\n",
    "`with-as` 구문을 통해 주어진 명령이 끝나면 driver를 종료하도록 설정할 수 있습니다."
   ]
  },
  {
   "cell_type": "code",
   "execution_count": null,
   "id": "65f28749-ade7-4168-9972-60e2b3ac92c8",
   "metadata": {},
   "outputs": [
    {
     "ename": "",
     "evalue": "",
     "output_type": "error",
     "traceback": [
      "\u001b[1;31mFailed to start the Kernel. \n",
      "Traceback (most recent call last):\n",
      "  File \"/Users/yireal/.vscode/extensions/ms-toolsai.jupyter-2022.3.1000901801/pythonFiles/vscode_datascience_helpers/daemon/daemon_python.py\", line 54, in _decorator\n",
      "    return func(self, *args, **kwargs)\n",
      "           ^^^^^^^^^^^^^^^^^^^^^^^^^^^\n",
      "  File \"/Users/yireal/.vscode/extensions/ms-toolsai.jupyter-2022.3.1000901801/pythonFiles/vscode_datascience_helpers/jupyter_daemon.py\", line 108, in m_exec_module_observable\n",
      "    self._start_notebook(args, cwd, env)\n",
      "  File \"/Users/yireal/.vscode/extensions/ms-toolsai.jupyter-2022.3.1000901801/pythonFiles/vscode_datascience_helpers/jupyter_daemon.py\", line 154, in _start_notebook\n",
      "    from notebook import notebookapp as app\n",
      "ImportError: cannot import name 'notebookapp' from 'notebook' (/opt/homebrew/lib/python3.11/site-packages/notebook/__init__.py)\n",
      "\n",
      "Failed to run jupyter as observable with args notebook --no-browser --notebook-dir=\"/Users/yireal/Desktop/Study/Programmers/Programmers_DataEngineering\" --KernelManager.autorestart=False --config=/var/folders/_7/6x0g3m3d2_57lnj_980360tm0000gn/T/d316166b-5825-4fc4-886f-c29681882f0f/jupyter_notebook_config.py --NotebookApp.iopub_data_rate_limit=10000000000.0. \n",
      "View Jupyter <a href='command:jupyter.viewOutput'>log</a> for further details."
     ]
    }
   ],
   "source": [
    "# with-as를 사용해서 위 코드를 다시 적어봅시다.\n",
    "\n",
    "with webdriver.Chrome(service=Service(ChromeDriverManager().install())) as driver:\n",
    "    driver.get(\"http://www.example.com\")\n",
    "    print(driver.page_source)"
   ]
  },
  {
   "cell_type": "markdown",
   "id": "87e75ad7-8536-4555-a6bd-a59dc311cef5",
   "metadata": {},
   "source": [
    "주어진 명령을 실행하고 잘 종료되는 것을 확인할 수 있습니다.\n",
    "\n",
    "----\n",
    "\n",
    "### Driver에서 특정 요소 추출하기\n",
    "\n",
    "selenium은 받아온 응답으로부터 특정 요소를 추출할 수도 있습니다.  \n",
    "**이미 브라우저를 활용하기 때문이죠!**\n",
    "\n",
    "응답을 가지고 있는 driver/요소에 대해서 다음과 같은 메서드를 적용할 수 있습니다.\n",
    "\n",
    "**요소 하나 찾기**  \n",
    "- `.find_element(by, target)`\n",
    "  - `by` : 대상을 찾는 기준 : `ID`, `TAG_NAME`, `CLASS_NAME`, ...\n",
    "  - `target` : 대상의 속성  \n",
    "\n",
    "**요소 여러개 찾기**  \n",
    "- `.find_elements(by, target)`\n",
    "  - `by` : 대상을 찾는 기준 : `ID`, `TAG_NAME`, `CLASS_NAME`, ...\n",
    "  - `target` : 대상의 속성"
   ]
  },
  {
   "cell_type": "code",
   "execution_count": null,
   "id": "530b2366-1e2d-4c86-b432-9b9a56778041",
   "metadata": {},
   "outputs": [
    {
     "ename": "",
     "evalue": "",
     "output_type": "error",
     "traceback": [
      "\u001b[1;31mFailed to start the Kernel. \n",
      "Traceback (most recent call last):\n",
      "  File \"/Users/yireal/.vscode/extensions/ms-toolsai.jupyter-2022.3.1000901801/pythonFiles/vscode_datascience_helpers/daemon/daemon_python.py\", line 54, in _decorator\n",
      "    return func(self, *args, **kwargs)\n",
      "           ^^^^^^^^^^^^^^^^^^^^^^^^^^^\n",
      "  File \"/Users/yireal/.vscode/extensions/ms-toolsai.jupyter-2022.3.1000901801/pythonFiles/vscode_datascience_helpers/jupyter_daemon.py\", line 108, in m_exec_module_observable\n",
      "    self._start_notebook(args, cwd, env)\n",
      "  File \"/Users/yireal/.vscode/extensions/ms-toolsai.jupyter-2022.3.1000901801/pythonFiles/vscode_datascience_helpers/jupyter_daemon.py\", line 154, in _start_notebook\n",
      "    from notebook import notebookapp as app\n",
      "ImportError: cannot import name 'notebookapp' from 'notebook' (/opt/homebrew/lib/python3.11/site-packages/notebook/__init__.py)\n",
      "\n",
      "Failed to run jupyter as observable with args notebook --no-browser --notebook-dir=\"/Users/yireal/Desktop/Study/Programmers/Programmers_DataEngineering\" --KernelManager.autorestart=False --config=/var/folders/_7/6x0g3m3d2_57lnj_980360tm0000gn/T/d316166b-5825-4fc4-886f-c29681882f0f/jupyter_notebook_config.py --NotebookApp.iopub_data_rate_limit=10000000000.0. \n",
      "View Jupyter <a href='command:jupyter.viewOutput'>log</a> for further details."
     ]
    }
   ],
   "source": [
    "# p 태그에 해당하는 요소 하나를 찾아봅시다.\n",
    "from selenium.webdriver.common.by import By\n",
    "with webdriver.Chrome(service=Service(ChromeDriverManager().install())) as driver:\n",
    "    driver.get(\"http://www.example.com\")\n",
    "    print(driver.find_element(By.TAG_NAME,\"p\").text)\n"
   ]
  },
  {
   "cell_type": "code",
   "execution_count": null,
   "id": "3f99f957-56b9-4615-864b-a8f68611ab7c",
   "metadata": {},
   "outputs": [
    {
     "ename": "",
     "evalue": "",
     "output_type": "error",
     "traceback": [
      "\u001b[1;31mFailed to start the Kernel. \n",
      "Traceback (most recent call last):\n",
      "  File \"/Users/yireal/.vscode/extensions/ms-toolsai.jupyter-2022.3.1000901801/pythonFiles/vscode_datascience_helpers/daemon/daemon_python.py\", line 54, in _decorator\n",
      "    return func(self, *args, **kwargs)\n",
      "           ^^^^^^^^^^^^^^^^^^^^^^^^^^^\n",
      "  File \"/Users/yireal/.vscode/extensions/ms-toolsai.jupyter-2022.3.1000901801/pythonFiles/vscode_datascience_helpers/jupyter_daemon.py\", line 108, in m_exec_module_observable\n",
      "    self._start_notebook(args, cwd, env)\n",
      "  File \"/Users/yireal/.vscode/extensions/ms-toolsai.jupyter-2022.3.1000901801/pythonFiles/vscode_datascience_helpers/jupyter_daemon.py\", line 154, in _start_notebook\n",
      "    from notebook import notebookapp as app\n",
      "ImportError: cannot import name 'notebookapp' from 'notebook' (/opt/homebrew/lib/python3.11/site-packages/notebook/__init__.py)\n",
      "\n",
      "Failed to run jupyter as observable with args notebook --no-browser --notebook-dir=\"/Users/yireal/Desktop/Study/Programmers/Programmers_DataEngineering\" --KernelManager.autorestart=False --config=/var/folders/_7/6x0g3m3d2_57lnj_980360tm0000gn/T/d316166b-5825-4fc4-886f-c29681882f0f/jupyter_notebook_config.py --NotebookApp.iopub_data_rate_limit=10000000000.0. \n",
      "View Jupyter <a href='command:jupyter.viewOutput'>log</a> for further details."
     ]
    }
   ],
   "source": [
    "# p 태그에 해당하는 요소 여러개를 찾아봅시다.\n",
    "with webdriver.Chrome(service=Service(ChromeDriverManager().install())) as driver:\n",
    "    driver.get(\"http://www.example.com\")\n",
    "    for element in driver.find_elements(By.TAG_NAME,\"p\"):\n",
    "        print(element.text)"
   ]
  }
 ],
 "metadata": {
  "kernelspec": {
   "display_name": "Python 3 (ipykernel)",
   "language": "python",
   "name": "python3"
  },
  "language_info": {
   "codemirror_mode": {
    "name": "ipython",
    "version": 3
   },
   "file_extension": ".py",
   "mimetype": "text/x-python",
   "name": "python",
   "nbconvert_exporter": "python",
   "pygments_lexer": "ipython3",
   "version": "3.9.16"
  }
 },
 "nbformat": 4,
 "nbformat_minor": 5
}
