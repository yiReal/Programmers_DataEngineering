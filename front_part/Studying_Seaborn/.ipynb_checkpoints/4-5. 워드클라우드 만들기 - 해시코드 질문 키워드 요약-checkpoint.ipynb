{
 "cells": [
  {
   "cell_type": "markdown",
   "id": "4e12e46e-2bdd-414e-9a89-632f790e273d",
   "metadata": {
    "tags": []
   },
   "source": [
    "## 4-5. 워드클라우드 만들기 - 해시코드 질문 키워드\n",
    "\n",
    "- bs4와 wordcloud를 이용해서 질문 키워드를 보여주는 시각화를 진행해봅시다."
   ]
  },
  {
   "cell_type": "markdown",
   "id": "a943f054-4bfe-4071-aa59-0d88de6224a4",
   "metadata": {},
   "source": [
    "### Target: 해시코드 질문 제목의 키워드\n",
    "\n",
    "지난 실습에서 해시코드(https://hashcode.co.kr) 질문태그를 활용해 Bar Plot을 그렸다면,   \n",
    "이번 실습에서는 질문 제목을 스크래핑한 후, 형태소 분석을 진행해서 워드클라우드를 그려봅시다."
   ]
  },
  {
   "cell_type": "code",
   "execution_count": null,
   "id": "e1e6514c",
   "metadata": {},
   "outputs": [],
   "source": [
    "# 다음 User-Agent를 추가해봅시다.\n",
    "\n",
    "user_agent = {\"User-Agent\": \"Mozilla/5.0 (Macintosh; Intel Mac OS X 10_15_4) AppleWebKit/537.36 (KHTML, like Gecko) Chrome/83.0.4103.97 Safari/537.36\"}"
   ]
  },
  {
   "cell_type": "code",
   "execution_count": null,
   "id": "baf98f6c-33db-42ce-8668-cd8c5cc92507",
   "metadata": {},
   "outputs": [],
   "source": [
    "# Pagination이 되어있는 질문 리스트의 제목을 모두 가져와 리스트 questions에 저장해봅시다.\n",
    "# https://hashcode.co.kr/?page={i}\n",
    "# 과도한 요청을 방지하기 위해 0.5초마다 요청을 보내봅시다.\n",
    "\n",
    "\n"
   ]
  },
  {
   "cell_type": "code",
   "execution_count": null,
   "id": "be69e917-aaab-4005-acc5-6149985dc73b",
   "metadata": {},
   "outputs": [],
   "source": [
    "# 텍스트 구름을 그리기 위해 필요한 라이브러리를 불러와봅시다.\n",
    "\n",
    "# 시각화에 쓰이는 라이브러리\n",
    "import matplotlib.pyplot as plt\n",
    "from wordcloud import WordCloud\n",
    "\n",
    "# 횟수를 기반으로 딕셔너리 생성\n",
    "from collections import Counter\n",
    "\n",
    "# 문장에서 명사를 추출하는 형태소 분석 라이브러리\n",
    "from konlpy.tag import Hannanum"
   ]
  },
  {
   "cell_type": "code",
   "execution_count": null,
   "id": "48747ecd-9b51-4b37-be16-e90208537907",
   "metadata": {},
   "outputs": [],
   "source": [
    "# Hannanum 객체를 생성한 후, .nouns()를 통해 명사를 추출합니다.\n",
    "\n"
   ]
  },
  {
   "cell_type": "code",
   "execution_count": null,
   "id": "a62d41f1-be2b-4de1-80e6-94253690dd22",
   "metadata": {},
   "outputs": [],
   "source": [
    "# counter를 이용해 각 단어의 개수를 세줍니다.\n",
    "\n"
   ]
  },
  {
   "cell_type": "code",
   "execution_count": null,
   "id": "3e42bbc9-b526-43d2-8103-e5ce2d65cb30",
   "metadata": {},
   "outputs": [],
   "source": [
    "# WordCloud를 이용해 텍스트 구름을 만들어봅시다.\n",
    "\n"
   ]
  }
 ],
 "metadata": {
  "kernelspec": {
   "display_name": "Python 3 (ipykernel)",
   "language": "python",
   "name": "python3"
  },
  "language_info": {
   "codemirror_mode": {
    "name": "ipython",
    "version": 3
   },
   "file_extension": ".py",
   "mimetype": "text/x-python",
   "name": "python",
   "nbconvert_exporter": "python",
   "pygments_lexer": "ipython3",
   "version": "3.10.4"
  }
 },
 "nbformat": 4,
 "nbformat_minor": 5
}
