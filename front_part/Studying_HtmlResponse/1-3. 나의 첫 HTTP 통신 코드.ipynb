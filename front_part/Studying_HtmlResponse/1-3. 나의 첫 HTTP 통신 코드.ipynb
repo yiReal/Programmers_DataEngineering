{
 "cells": [
  {
   "cell_type": "markdown",
   "id": "192778f5-b6a0-458f-9d28-2ecd531975a1",
   "metadata": {},
   "source": [
    "## 1-3. 나의 첫 HTTP 통신 코드\n",
    "\n",
    "- Python의 `requests` 라이브러리를 이용해 HTTP 통신을 진행해봅시다."
   ]
  },
  {
   "cell_type": "markdown",
   "id": "4641b904-0d90-4bd0-a963-3f01ea8547d1",
   "metadata": {},
   "source": [
    "### request 라이브러리\n",
    "\n",
    "- `requests`는 Python을 이용해서 간단히 HTTP 통신을 진행할 수 있는 라이브러리입니다.\n",
    "\n",
    "이를 사용하기 위해서는 먼저 `requests` 라이브러리를 설치해야합니다.  \n",
    "`pip install`을 통해서 이를 간단하게 실행할 수 있습니다.\n",
    "\n",
    "> Tip: `%`를 이용해서 노트북(.ipynb) 환경에서 터미널 코드를 실행할 수 있습니다."
   ]
  },
  {
   "cell_type": "code",
   "execution_count": null,
   "id": "1b08d5f2-01ae-4b19-bff8-f933f12f94e4",
   "metadata": {},
   "outputs": [
    {
     "ename": "",
     "evalue": "",
     "output_type": "error",
     "traceback": [
      "\u001b[1;31mFailed to start the Kernel. \n",
      "Traceback (most recent call last):\n",
      "  File \"/Users/yireal/.vscode/extensions/ms-toolsai.jupyter-2022.3.1000901801/pythonFiles/vscode_datascience_helpers/daemon/daemon_python.py\", line 54, in _decorator\n",
      "    return func(self, *args, **kwargs)\n",
      "           ^^^^^^^^^^^^^^^^^^^^^^^^^^^\n",
      "  File \"/Users/yireal/.vscode/extensions/ms-toolsai.jupyter-2022.3.1000901801/pythonFiles/vscode_datascience_helpers/jupyter_daemon.py\", line 108, in m_exec_module_observable\n",
      "    self._start_notebook(args, cwd, env)\n",
      "  File \"/Users/yireal/.vscode/extensions/ms-toolsai.jupyter-2022.3.1000901801/pythonFiles/vscode_datascience_helpers/jupyter_daemon.py\", line 154, in _start_notebook\n",
      "    from notebook import notebookapp as app\n",
      "ImportError: cannot import name 'notebookapp' from 'notebook' (/opt/homebrew/lib/python3.11/site-packages/notebook/__init__.py)\n",
      "\n",
      "Failed to run jupyter as observable with args notebook --no-browser --notebook-dir=\"/Users/yireal/Desktop/Study/Programmers/Programmers_DataEngineering\" --KernelManager.autorestart=False --config=/var/folders/_7/6x0g3m3d2_57lnj_980360tm0000gn/T/d27f52e1-2161-4268-9c50-815271e5b20b/jupyter_notebook_config.py --NotebookApp.iopub_data_rate_limit=10000000000.0. \n",
      "View Jupyter <a href='command:jupyter.viewOutput'>log</a> for further details."
     ]
    }
   ],
   "source": [
    "%pip3 install requests"
   ]
  },
  {
   "cell_type": "code",
   "execution_count": null,
   "id": "58210cf9",
   "metadata": {},
   "outputs": [],
   "source": []
  },
  {
   "cell_type": "code",
   "execution_count": null,
   "id": "5f2c9681",
   "metadata": {},
   "outputs": [],
   "source": [
    "%pip3 install requests"
   ]
  },
  {
   "cell_type": "markdown",
   "id": "03b2584d-ca5a-4aa6-80ce-0c478a097fbd",
   "metadata": {},
   "source": [
    "설치를 다 진행했다면, 이제 requests 모듈을 사용할 준비가 되었습니다.\n",
    "\n",
    "이제 이를 바탕으로 HTTP 요청을 진행해보러 가볼까요?"
   ]
  },
  {
   "cell_type": "markdown",
   "id": "060b520e-2569-4cf0-a38c-8a68c37eb907",
   "metadata": {},
   "source": [
    "### 정보를 달라고 요청하기, GET"
   ]
  },
  {
   "cell_type": "code",
   "execution_count": null,
   "id": "530b2366-1e2d-4c86-b432-9b9a56778041",
   "metadata": {},
   "outputs": [
    {
     "ename": "",
     "evalue": "",
     "output_type": "error",
     "traceback": [
      "\u001b[1;31mFailed to start the Kernel. \n",
      "Traceback (most recent call last):\n",
      "  File \"/Users/yireal/.vscode/extensions/ms-toolsai.jupyter-2022.3.1000901801/pythonFiles/vscode_datascience_helpers/daemon/daemon_python.py\", line 54, in _decorator\n",
      "    return func(self, *args, **kwargs)\n",
      "           ^^^^^^^^^^^^^^^^^^^^^^^^^^^\n",
      "  File \"/Users/yireal/.vscode/extensions/ms-toolsai.jupyter-2022.3.1000901801/pythonFiles/vscode_datascience_helpers/jupyter_daemon.py\", line 108, in m_exec_module_observable\n",
      "    self._start_notebook(args, cwd, env)\n",
      "  File \"/Users/yireal/.vscode/extensions/ms-toolsai.jupyter-2022.3.1000901801/pythonFiles/vscode_datascience_helpers/jupyter_daemon.py\", line 154, in _start_notebook\n",
      "    from notebook import notebookapp as app\n",
      "ImportError: cannot import name 'notebookapp' from 'notebook' (/opt/homebrew/lib/python3.11/site-packages/notebook/__init__.py)\n",
      "\n",
      "Failed to run jupyter as observable with args notebook --no-browser --notebook-dir=\"/Users/yireal/Desktop/Study/Programmers/Programmers_DataEngineering\" --KernelManager.autorestart=False --config=/var/folders/_7/6x0g3m3d2_57lnj_980360tm0000gn/T/d27f52e1-2161-4268-9c50-815271e5b20b/jupyter_notebook_config.py --NotebookApp.iopub_data_rate_limit=10000000000.0. \n",
      "View Jupyter <a href='command:jupyter.viewOutput'>log</a> for further details."
     ]
    }
   ],
   "source": [
    "# requests 라이브러리를 불러온 후, NAVER의 홈 페이지를 요청한 후 응답 받아보기\n",
    "import requests\n",
    "res = requests.get(\"https://www.naver.com\")"
   ]
  },
  {
   "cell_type": "code",
   "execution_count": null,
   "id": "3f99f957-56b9-4615-864b-a8f68611ab7c",
   "metadata": {},
   "outputs": [
    {
     "ename": "",
     "evalue": "",
     "output_type": "error",
     "traceback": [
      "\u001b[1;31mFailed to start the Kernel. \n",
      "Traceback (most recent call last):\n",
      "  File \"/Users/yireal/.vscode/extensions/ms-toolsai.jupyter-2022.3.1000901801/pythonFiles/vscode_datascience_helpers/daemon/daemon_python.py\", line 54, in _decorator\n",
      "    return func(self, *args, **kwargs)\n",
      "           ^^^^^^^^^^^^^^^^^^^^^^^^^^^\n",
      "  File \"/Users/yireal/.vscode/extensions/ms-toolsai.jupyter-2022.3.1000901801/pythonFiles/vscode_datascience_helpers/jupyter_daemon.py\", line 108, in m_exec_module_observable\n",
      "    self._start_notebook(args, cwd, env)\n",
      "  File \"/Users/yireal/.vscode/extensions/ms-toolsai.jupyter-2022.3.1000901801/pythonFiles/vscode_datascience_helpers/jupyter_daemon.py\", line 154, in _start_notebook\n",
      "    from notebook import notebookapp as app\n",
      "ImportError: cannot import name 'notebookapp' from 'notebook' (/opt/homebrew/lib/python3.11/site-packages/notebook/__init__.py)\n",
      "\n",
      "Failed to run jupyter as observable with args notebook --no-browser --notebook-dir=\"/Users/yireal/Desktop/Study/Programmers/Programmers_DataEngineering\" --KernelManager.autorestart=False --config=/var/folders/_7/6x0g3m3d2_57lnj_980360tm0000gn/T/d27f52e1-2161-4268-9c50-815271e5b20b/jupyter_notebook_config.py --NotebookApp.iopub_data_rate_limit=10000000000.0. \n",
      "View Jupyter <a href='command:jupyter.viewOutput'>log</a> for further details."
     ]
    }
   ],
   "source": [
    "# Header를 확인해봅시다 : .headers\n"
   ]
  },
  {
   "cell_type": "code",
   "execution_count": null,
   "id": "80fb516c-d62e-4f9e-a76a-a395ebeb05c3",
   "metadata": {},
   "outputs": [
    {
     "ename": "",
     "evalue": "",
     "output_type": "error",
     "traceback": [
      "\u001b[1;31mFailed to start the Kernel. \n",
      "Traceback (most recent call last):\n",
      "  File \"/Users/yireal/.vscode/extensions/ms-toolsai.jupyter-2022.3.1000901801/pythonFiles/vscode_datascience_helpers/daemon/daemon_python.py\", line 54, in _decorator\n",
      "    return func(self, *args, **kwargs)\n",
      "           ^^^^^^^^^^^^^^^^^^^^^^^^^^^\n",
      "  File \"/Users/yireal/.vscode/extensions/ms-toolsai.jupyter-2022.3.1000901801/pythonFiles/vscode_datascience_helpers/jupyter_daemon.py\", line 108, in m_exec_module_observable\n",
      "    self._start_notebook(args, cwd, env)\n",
      "  File \"/Users/yireal/.vscode/extensions/ms-toolsai.jupyter-2022.3.1000901801/pythonFiles/vscode_datascience_helpers/jupyter_daemon.py\", line 154, in _start_notebook\n",
      "    from notebook import notebookapp as app\n",
      "ImportError: cannot import name 'notebookapp' from 'notebook' (/opt/homebrew/lib/python3.11/site-packages/notebook/__init__.py)\n",
      "\n",
      "Failed to run jupyter as observable with args notebook --no-browser --notebook-dir=\"/Users/yireal/Desktop/Study/Programmers/Programmers_DataEngineering\" --KernelManager.autorestart=False --config=/var/folders/_7/6x0g3m3d2_57lnj_980360tm0000gn/T/d27f52e1-2161-4268-9c50-815271e5b20b/jupyter_notebook_config.py --NotebookApp.iopub_data_rate_limit=10000000000.0. \n",
      "View Jupyter <a href='command:jupyter.viewOutput'>log</a> for further details."
     ]
    }
   ],
   "source": [
    "# Body를 텍스트 형태로 확인해봅시다 : .text\n"
   ]
  },
  {
   "cell_type": "markdown",
   "id": "5304dfa9-2edf-4745-bcc6-8ae1e8df39af",
   "metadata": {},
   "source": [
    "### 정보 **갱신**하는 것을 요청하기, POST\n",
    "\n",
    "그렇다면 이렇게 항상 정보를 가져오는 경우만 있습니다.\n",
    "\n",
    "아닙니다. 우리는 우리의 정보를 제공해주면서 서버로하여금 무언가 요청을 진행할 때도 있습니다.  \n",
    "우리가 매일 진행하는, **로그인**이 바로 그 예시죠.\n",
    "\n",
    "이러한 요청을 처리하는 HTTP Method가 있는데, 바로 POST입니다.\n",
    "\n",
    "POST를 활용하기 위해 다음 사이트를 이용해보도록 하겠습니다:\n",
    "https://webhook.site\n"
   ]
  },
  {
   "cell_type": "code",
   "execution_count": null,
   "id": "26e256af-33d9-42ac-8334-fa2d1ae5d4b0",
   "metadata": {},
   "outputs": [
    {
     "ename": "",
     "evalue": "",
     "output_type": "error",
     "traceback": [
      "\u001b[1;31mFailed to start the Kernel. \n",
      "Traceback (most recent call last):\n",
      "  File \"/Users/yireal/.vscode/extensions/ms-toolsai.jupyter-2022.3.1000901801/pythonFiles/vscode_datascience_helpers/daemon/daemon_python.py\", line 54, in _decorator\n",
      "    return func(self, *args, **kwargs)\n",
      "           ^^^^^^^^^^^^^^^^^^^^^^^^^^^\n",
      "  File \"/Users/yireal/.vscode/extensions/ms-toolsai.jupyter-2022.3.1000901801/pythonFiles/vscode_datascience_helpers/jupyter_daemon.py\", line 108, in m_exec_module_observable\n",
      "    self._start_notebook(args, cwd, env)\n",
      "  File \"/Users/yireal/.vscode/extensions/ms-toolsai.jupyter-2022.3.1000901801/pythonFiles/vscode_datascience_helpers/jupyter_daemon.py\", line 154, in _start_notebook\n",
      "    from notebook import notebookapp as app\n",
      "ImportError: cannot import name 'notebookapp' from 'notebook' (/opt/homebrew/lib/python3.11/site-packages/notebook/__init__.py)\n",
      "\n",
      "Failed to run jupyter as observable with args notebook --no-browser --notebook-dir=\"/Users/yireal/Desktop/Study/Programmers/Programmers_DataEngineering\" --KernelManager.autorestart=False --config=/var/folders/_7/6x0g3m3d2_57lnj_980360tm0000gn/T/d27f52e1-2161-4268-9c50-815271e5b20b/jupyter_notebook_config.py --NotebookApp.iopub_data_rate_limit=10000000000.0. \n",
      "View Jupyter <a href='command:jupyter.viewOutput'>log</a> for further details."
     ]
    }
   ],
   "source": [
    "# payload와 함께 POST를 보내봅시다 : requests.post()\n",
    "# payload = {\"name\": \"Hello\", \"age\": 13}\n"
   ]
  },
  {
   "cell_type": "markdown",
   "id": "d628e3d0",
   "metadata": {},
   "source": [
    "응답의 상태 코드를 통해 응답이 잘 왔는지 확인해볼까요?"
   ]
  },
  {
   "cell_type": "code",
   "execution_count": null,
   "id": "3db1eaaa",
   "metadata": {},
   "outputs": [
    {
     "ename": "",
     "evalue": "",
     "output_type": "error",
     "traceback": [
      "\u001b[1;31mFailed to start the Kernel. \n",
      "Traceback (most recent call last):\n",
      "  File \"/Users/yireal/.vscode/extensions/ms-toolsai.jupyter-2022.3.1000901801/pythonFiles/vscode_datascience_helpers/daemon/daemon_python.py\", line 54, in _decorator\n",
      "    return func(self, *args, **kwargs)\n",
      "           ^^^^^^^^^^^^^^^^^^^^^^^^^^^\n",
      "  File \"/Users/yireal/.vscode/extensions/ms-toolsai.jupyter-2022.3.1000901801/pythonFiles/vscode_datascience_helpers/jupyter_daemon.py\", line 108, in m_exec_module_observable\n",
      "    self._start_notebook(args, cwd, env)\n",
      "  File \"/Users/yireal/.vscode/extensions/ms-toolsai.jupyter-2022.3.1000901801/pythonFiles/vscode_datascience_helpers/jupyter_daemon.py\", line 154, in _start_notebook\n",
      "    from notebook import notebookapp as app\n",
      "ImportError: cannot import name 'notebookapp' from 'notebook' (/opt/homebrew/lib/python3.11/site-packages/notebook/__init__.py)\n",
      "\n",
      "Failed to run jupyter as observable with args notebook --no-browser --notebook-dir=\"/Users/yireal/Desktop/Study/Programmers/Programmers_DataEngineering\" --KernelManager.autorestart=False --config=/var/folders/_7/6x0g3m3d2_57lnj_980360tm0000gn/T/d27f52e1-2161-4268-9c50-815271e5b20b/jupyter_notebook_config.py --NotebookApp.iopub_data_rate_limit=10000000000.0. \n",
      "View Jupyter <a href='command:jupyter.viewOutput'>log</a> for further details."
     ]
    }
   ],
   "source": [
    "# 상태 코드(status code)를 확인해봅시다 : .status_code\n"
   ]
  }
 ],
 "metadata": {
  "kernelspec": {
   "display_name": "Python 3 (ipykernel)",
   "language": "python",
   "name": "python3"
  },
  "language_info": {
   "codemirror_mode": {
    "name": "ipython",
    "version": 3
   },
   "file_extension": ".py",
   "mimetype": "text/x-python",
   "name": "python",
   "nbconvert_exporter": "python",
   "pygments_lexer": "ipython3",
   "version": "3.11.2"
  }
 },
 "nbformat": 4,
 "nbformat_minor": 5
}
