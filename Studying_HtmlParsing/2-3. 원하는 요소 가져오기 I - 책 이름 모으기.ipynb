{
 "cells": [
  {
   "cell_type": "markdown",
   "id": "192778f5-b6a0-458f-9d28-2ecd531975a1",
   "metadata": {},
   "source": [
    "## 2-3. 원하는 요소 가져오기 I - 책 이름 모으기\n",
    "\n",
    "- 연습만이 살길! 예시 사이트를 통해 스크래핑을 진행해봅시다."
   ]
  },
  {
   "cell_type": "markdown",
   "id": "21cda704-06c6-4de4-83a7-f77fbeec5728",
   "metadata": {},
   "source": [
    "### Target: Mock Book Data\n",
    "\n",
    "다음 사이트에 있는 책들의 이름 정보를 스크래핑 해봅시다 : http://books.toscrape.com/catalogue/category/books/travel_2/index.html  \n",
    "\n",
    "해당 웹 페이지는 임의의 책 정보가 담긴 웹 사이트입니다."
   ]
  },
  {
   "cell_type": "code",
   "execution_count": null,
   "id": "e1e6514c",
   "metadata": {},
   "outputs": [
    {
     "ename": "",
     "evalue": "",
     "output_type": "error",
     "traceback": [
      "\u001b[1;31mFailed to start the Kernel. \n",
      "Traceback (most recent call last):\n",
      "  File \"/Users/yireal/.vscode/extensions/ms-toolsai.jupyter-2022.3.1000901801/pythonFiles/vscode_datascience_helpers/daemon/daemon_python.py\", line 54, in _decorator\n",
      "    return func(self, *args, **kwargs)\n",
      "           ^^^^^^^^^^^^^^^^^^^^^^^^^^^\n",
      "  File \"/Users/yireal/.vscode/extensions/ms-toolsai.jupyter-2022.3.1000901801/pythonFiles/vscode_datascience_helpers/jupyter_daemon.py\", line 108, in m_exec_module_observable\n",
      "    self._start_notebook(args, cwd, env)\n",
      "  File \"/Users/yireal/.vscode/extensions/ms-toolsai.jupyter-2022.3.1000901801/pythonFiles/vscode_datascience_helpers/jupyter_daemon.py\", line 154, in _start_notebook\n",
      "    from notebook import notebookapp as app\n",
      "ImportError: cannot import name 'notebookapp' from 'notebook' (/opt/homebrew/lib/python3.11/site-packages/notebook/__init__.py)\n",
      "\n",
      "Failed to run jupyter as observable with args notebook --no-browser --notebook-dir=\"/Users/yireal/Desktop/Study/Programmers/Programmers_DataEngineering\" --KernelManager.autorestart=False --config=/var/folders/_7/6x0g3m3d2_57lnj_980360tm0000gn/T/10a80256-084d-4cd1-b4b7-f93c08ee0364/jupyter_notebook_config.py --NotebookApp.iopub_data_rate_limit=10000000000.0. \n",
      "View Jupyter <a href='command:jupyter.viewOutput'>log</a> for further details."
     ]
    }
   ],
   "source": [
    "# 스크래핑에 필요한 라이브러리를 불러와봅시다.\n",
    "\n",
    "import requests\n",
    "from bs4 import BeautifulSoup"
   ]
  },
  {
   "cell_type": "code",
   "execution_count": null,
   "id": "8bdbf061-8236-4008-b75c-449458718736",
   "metadata": {},
   "outputs": [],
   "source": [
    "# 예시 사이트에 요청을 진행하고, 응답을 바탕으로 BeautifulSoup 객체를 만들어봅시다.\n",
    "\n",
    "res = requests.get(\"http://books.toscrape.com/catalogue/category/books/travel_2/index.html\")\n",
    "\n",
    "soup = BeautifulSoup(res.text,\"html.parser\")"
   ]
  },
  {
   "cell_type": "code",
   "execution_count": null,
   "id": "3d6e0826",
   "metadata": {},
   "outputs": [
    {
     "ename": "",
     "evalue": "",
     "output_type": "error",
     "traceback": [
      "\u001b[1;31mFailed to start the Kernel. \n",
      "Traceback (most recent call last):\n",
      "  File \"/Users/yireal/.vscode/extensions/ms-toolsai.jupyter-2022.3.1000901801/pythonFiles/vscode_datascience_helpers/daemon/daemon_python.py\", line 54, in _decorator\n",
      "    return func(self, *args, **kwargs)\n",
      "           ^^^^^^^^^^^^^^^^^^^^^^^^^^^\n",
      "  File \"/Users/yireal/.vscode/extensions/ms-toolsai.jupyter-2022.3.1000901801/pythonFiles/vscode_datascience_helpers/jupyter_daemon.py\", line 108, in m_exec_module_observable\n",
      "    self._start_notebook(args, cwd, env)\n",
      "  File \"/Users/yireal/.vscode/extensions/ms-toolsai.jupyter-2022.3.1000901801/pythonFiles/vscode_datascience_helpers/jupyter_daemon.py\", line 154, in _start_notebook\n",
      "    from notebook import notebookapp as app\n",
      "ImportError: cannot import name 'notebookapp' from 'notebook' (/opt/homebrew/lib/python3.11/site-packages/notebook/__init__.py)\n",
      "\n",
      "Failed to run jupyter as observable with args notebook --no-browser --notebook-dir=\"/Users/yireal/Desktop/Study/Programmers/Programmers_DataEngineering\" --KernelManager.autorestart=False --config=/var/folders/_7/6x0g3m3d2_57lnj_980360tm0000gn/T/b6637d1b-a65f-465b-9899-d15286a3051e/jupyter_notebook_config.py --NotebookApp.iopub_data_rate_limit=10000000000.0. \n",
      "View Jupyter <a href='command:jupyter.viewOutput'>log</a> for further details."
     ]
    }
   ],
   "source": [
    "# <h3> 태그에 해당하는 요소를 하나 찾아봅시다\n",
    "print(soup.find(\"h3\"))\n"
   ]
  },
  {
   "cell_type": "code",
   "execution_count": null,
   "id": "c1e6aeea",
   "metadata": {},
   "outputs": [],
   "source": [
    "# <h3> 태그에 해당하는 요소를 모두 찾아봅시다\n",
    "\n",
    "h3_results = soup.find_all(\"h3\")\n",
    "h3_results[0]"
   ]
  },
  {
   "cell_type": "markdown",
   "id": "d790d114",
   "metadata": {},
   "source": [
    "찾아온 데이터들은 모두 **객체**이므로, 저희가 익숙한 방식대로 데이터를 추출할 수 있습니다."
   ]
  },
  {
   "cell_type": "code",
   "execution_count": null,
   "id": "e1af00f8-647a-4792-83bf-4a72a68c7c71",
   "metadata": {},
   "outputs": [],
   "source": [
    "# book_list에서 우리가 원하는 제목(title)만 추출해봅시다.\n",
    "\n",
    "for book in h3_results:\n",
    "    print(book.a.text)"
   ]
  }
 ],
 "metadata": {
  "kernelspec": {
   "display_name": "Python 3 (ipykernel)",
   "language": "python",
   "name": "python3"
  },
  "language_info": {
   "codemirror_mode": {
    "name": "ipython",
    "version": 3
   },
   "file_extension": ".py",
   "mimetype": "text/x-python",
   "name": "python",
   "nbconvert_exporter": "python",
   "pygments_lexer": "ipython3",
   "version": "3.11.2"
  }
 },
 "nbformat": 4,
 "nbformat_minor": 5
}
